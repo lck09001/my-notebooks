{
  "nbformat": 4,
  "nbformat_minor": 0,
  "metadata": {
    "colab": {
      "provenance": [],
      "authorship_tag": "ABX9TyPqz8DQDUlTg6pz1yb9HR1I",
      "include_colab_link": true
    },
    "kernelspec": {
      "name": "python3",
      "display_name": "Python 3"
    },
    "language_info": {
      "name": "python"
    }
  },
  "cells": [
    {
      "cell_type": "markdown",
      "metadata": {
        "id": "view-in-github",
        "colab_type": "text"
      },
      "source": [
        "<a href=\"https://colab.research.google.com/github/lck09001/my-notebooks/blob/main/My_First_Notebook.ipynb\" target=\"_parent\"><img src=\"https://colab.research.google.com/assets/colab-badge.svg\" alt=\"Open In Colab\"/></a>"
      ]
    },
    {
      "cell_type": "markdown",
      "source": [
        "any text in English. it's all good.\n",
        "\n",
        "this is my first notebook."
      ],
      "metadata": {
        "id": "3EHpNdwVq1JT"
      }
    },
    {
      "cell_type": "markdown",
      "source": [
        "# My First Notebook!\n",
        "\n",
        "This is a text cell. It uses the markdown language. The line above is a heading, starting with the \"#\" sign. Remember \"#\" means something different in Markdown than it does in Python.\n",
        "\n",
        "We can make links like [this](https://github.com/prof-rossetti/intro-to-python).\n",
        "\n",
        "And lists too:\n",
        "\n",
        "  + Item 1\n",
        "  + Item 2\n",
        "  + Item 3\n",
        "\n",
        "For more information about Markdown syntax, see the [Markdown Guide](https://www.markdownguide.org/)."
      ],
      "metadata": {
        "id": "NRezw52trK_L"
      }
    },
    {
      "cell_type": "markdown",
      "source": [
        "# Top Level Heading\n",
        "\n",
        "\n"
      ],
      "metadata": {
        "id": "gK2NSWvFrpHS"
      }
    },
    {
      "cell_type": "markdown",
      "source": [
        "## Second Level Heading"
      ],
      "metadata": {
        "id": "cwWY3eU5rxp1"
      }
    },
    {
      "cell_type": "markdown",
      "source": [
        "## Another Second Level Heading\n",
        "\n",
        "**this is some bold text**"
      ],
      "metadata": {
        "id": "R4_gJH4Xr3eN"
      }
    },
    {
      "cell_type": "code",
      "source": [
        "# This is some example Python code\n",
        "# These lines starting with \"#\" are \"comments\"\n",
        "# Remember \"#\" means something different in Markdown than it does in Python\n",
        "\n",
        "print(\"HELLO WORLD!\")\n",
        "\n",
        "x = 2 + 2\n",
        "print(x)"
      ],
      "metadata": {
        "colab": {
          "base_uri": "https://localhost:8080/"
        },
        "id": "EQhYlkwCqnZr",
        "outputId": "09614a46-507c-4962-83b2-4ba99b7777e4"
      },
      "execution_count": 1,
      "outputs": [
        {
          "output_type": "stream",
          "name": "stdout",
          "text": [
            "HELLO WORLD!\n",
            "4\n"
          ]
        }
      ]
    },
    {
      "cell_type": "code",
      "source": [
        "y = 10 * 10\n",
        "print(y)"
      ],
      "metadata": {
        "colab": {
          "base_uri": "https://localhost:8080/"
        },
        "id": "Fy6QzWV6qnq6",
        "outputId": "41825a30-644b-4a8b-eb88-c7ee984800ed"
      },
      "execution_count": 3,
      "outputs": [
        {
          "output_type": "stream",
          "name": "stdout",
          "text": [
            "100\n"
          ]
        }
      ]
    },
    {
      "cell_type": "markdown",
      "source": [],
      "metadata": {
        "id": "hWkgqdtUrBRc"
      }
    },
    {
      "cell_type": "code",
      "source": [],
      "metadata": {
        "id": "XH0pQ82eqn8z"
      },
      "execution_count": null,
      "outputs": []
    }
  ]
}